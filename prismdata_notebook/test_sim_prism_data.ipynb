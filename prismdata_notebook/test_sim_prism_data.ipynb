{
 "cells": [
  {
   "cell_type": "markdown",
   "id": "4414a84e-47d5-4c4c-8c31-871eccd3c2bd",
   "metadata": {},
   "source": [
    "# Loading Packages"
   ]
  },
  {
   "cell_type": "code",
   "execution_count": 1,
   "id": "98af2223-d628-4435-bdc1-50cd5018e3a2",
   "metadata": {
    "execution": {
     "iopub.execute_input": "2023-05-30T23:52:37.225000-04:00",
     "iopub.status.busy": "2023-05-30T23:52:36.560000-04:00",
     "iopub.status.idle": "2023-05-30T23:52:38.927000-04:00",
     "shell.execute_reply": "2023-05-30T23:52:38.874000-04:00"
    }
   },
   "outputs": [
    {
     "name": "stderr",
     "output_type": "stream",
     "text": [
      "\u001b[32m\u001b[1m  Activating\u001b[22m\u001b[39m project at `~/Documents/Roman/PIT/prism/hostlight_subtraction/CloudCovFix.jl`\n"
     ]
    }
   ],
   "source": [
    "using Pkg\n",
    "path2CloudCovFix = \"/Users/baj/Documents/Roman/PIT/prism/hostlight_subtraction/CloudCovFix.jl/\"\n",
    "Pkg.activate(path2CloudCovFix)#*\"examples/CloudCovFixEx\")"
   ]
  },
  {
   "cell_type": "code",
   "execution_count": 2,
   "id": "5224c075",
   "metadata": {},
   "outputs": [
    {
     "name": "stdout",
     "output_type": "stream",
     "text": [
      "Using the main package now. Not the example project.toml.\n"
     ]
    }
   ],
   "source": [
    "println(\"Using the main package now. Not the example project.toml.\")"
   ]
  },
  {
   "cell_type": "code",
   "execution_count": 3,
   "id": "e480b312",
   "metadata": {},
   "outputs": [],
   "source": [
    "# Pkg.instantiate()"
   ]
  },
  {
   "cell_type": "code",
   "execution_count": 4,
   "id": "a6b53bff",
   "metadata": {},
   "outputs": [
    {
     "data": {
      "text/plain": [
       "\"/Users/baj/Documents/Roman/PIT/prism/hostlight_subtraction/sf22_romanprism/prismdata_notebook/\""
      ]
     },
     "metadata": {},
     "output_type": "display_data"
    }
   ],
   "source": [
    "# path to our simulated data\n",
    "path2simdata = \"/Users/baj/Documents/Roman/PIT/prism/hostlight_subtraction/sf22_romanprism/prismdata_notebook/\""
   ]
  },
  {
   "cell_type": "code",
   "execution_count": 5,
   "id": "d6896704-4a02-42ba-bb16-75bb5a27b0dd",
   "metadata": {
    "execution": {
     "iopub.execute_input": "2023-05-31T00:47:43.476000-04:00",
     "iopub.status.busy": "2023-05-31T00:47:43.476000-04:00",
     "iopub.status.idle": "2023-05-31T00:47:43.480000-04:00",
     "shell.execute_reply": "2023-05-31T00:47:43.480000-04:00"
    },
    "tags": []
   },
   "outputs": [],
   "source": [
    "# the first time you run this, it might take ~5 min, but it will be faster in the future\n",
    "# and for all other julia environments you install (lots of package caching and precompilation)\n",
    "first_time = false\n",
    "if first_time\n",
    "    Pkg.add(url=\"https://github.com/andrew-saydjari/CloudCovFix.jl\")\n",
    "    Pkg.add(\"FITSIO\")\n",
    "    Pkg.add([\"CairoMakie\",\"ColorSchemes\"])\n",
    "end"
   ]
  },
  {
   "cell_type": "code",
   "execution_count": 6,
   "id": "77cb6c7c-b83d-4fe6-ad9f-6ce69956caab",
   "metadata": {
    "execution": {
     "iopub.execute_input": "2023-05-31T00:47:44.759000-04:00",
     "iopub.status.busy": "2023-05-31T00:47:44.759000-04:00",
     "iopub.status.idle": "2023-05-31T00:47:44.773000-04:00",
     "shell.execute_reply": "2023-05-31T00:47:44.772000-04:00"
    },
    "tags": []
   },
   "outputs": [],
   "source": [
    "# just bear with it for the first time extra precompilation times (~1-2 min)\n",
    "using CloudCovFix, FITSIO, StatsBase"
   ]
  },
  {
   "cell_type": "code",
   "execution_count": 7,
   "id": "4c33c72b",
   "metadata": {},
   "outputs": [],
   "source": [
    "# Pkg.add(\"CairoMakie\")"
   ]
  },
  {
   "cell_type": "code",
   "execution_count": 8,
   "id": "442961f9",
   "metadata": {},
   "outputs": [],
   "source": [
    "# Pkg.add(\"ColorSchemes\")"
   ]
  },
  {
   "cell_type": "code",
   "execution_count": 9,
   "id": "2cc4e951-0f0b-4336-8403-628edaf8efca",
   "metadata": {
    "execution": {
     "iopub.execute_input": "2023-05-31T00:48:20.197000-04:00",
     "iopub.status.busy": "2023-05-31T00:48:19.982000-04:00",
     "iopub.status.idle": "2023-05-31T00:48:20.204000-04:00",
     "shell.execute_reply": "2023-05-31T00:48:20.204000-04:00"
    },
    "tags": []
   },
   "outputs": [],
   "source": [
    "# just bear with it for the first time extra precompilation times (~3-4 min)\n",
    "using CairoMakie; set_theme!(theme_black()); CairoMakie.disable_mime!(\"svg\", \"pdf\", \"text/html\");\n",
    "using ColorSchemes"
   ]
  },
  {
   "cell_type": "markdown",
   "id": "def6683b-22a7-458b-8e31-ca357e0e89b3",
   "metadata": {},
   "source": [
    "# Synthetic Filament Example"
   ]
  },
  {
   "cell_type": "markdown",
   "id": "b5fe1b77-8968-4dc5-a57f-aa88e1940613",
   "metadata": {},
   "source": [
    "Here we show CloudCovFix performing well on the difficult example of infilling a filament that is isolated on a flat background, in the presence of noise. It is of note that the infill is correctly anisotropic, in contrast to most kernel methods that make an isotropic assumption."
   ]
  },
  {
   "cell_type": "code",
   "execution_count": 10,
   "id": "9c76b4c3-53db-4f6a-ac63-b992695900f7",
   "metadata": {
    "execution": {
     "iopub.execute_input": "2023-05-31T00:48:28.979000-04:00",
     "iopub.status.busy": "2023-05-31T00:48:28.979000-04:00",
     "iopub.status.idle": "2023-05-31T00:48:29.079000-04:00",
     "shell.execute_reply": "2023-05-31T00:48:29.079000-04:00"
    },
    "tags": []
   },
   "outputs": [],
   "source": [
    "f = FITS(path2simdata*\"Roman_TDS_truth_SNPrism_0_5_1000_galsn.fits\")\n",
    "out_image = read(f[1])\n",
    "close(f)"
   ]
  },
  {
   "cell_type": "code",
   "execution_count": 11,
   "id": "611ea492",
   "metadata": {},
   "outputs": [
    {
     "data": {
      "text/plain": [
       "12×220 BitMatrix:\n",
       " 0  0  0  0  0  0  0  0  0  0  0  0  0  …  0  0  0  0  0  0  0  0  0  0  0  0\n",
       " 0  0  0  0  0  0  0  0  0  0  0  0  0     0  0  0  0  0  0  0  0  0  0  0  0\n",
       " 0  0  0  0  0  0  0  0  0  1  1  1  1     1  1  0  0  0  0  0  0  0  0  0  0\n",
       " 0  0  0  0  0  0  0  0  0  1  1  1  1     1  1  0  0  0  0  0  0  0  0  0  0\n",
       " 0  0  0  0  0  0  0  0  0  1  1  1  1     1  1  0  0  0  0  0  0  0  0  0  0\n",
       " 0  0  0  0  0  0  0  0  0  1  1  1  1  …  1  1  0  0  0  0  0  0  0  0  0  0\n",
       " 0  0  0  0  0  0  0  0  0  1  1  1  1     1  1  0  0  0  0  0  0  0  0  0  0\n",
       " 0  0  0  0  0  0  0  0  0  1  1  1  1     1  1  0  0  0  0  0  0  0  0  0  0\n",
       " 0  0  0  0  0  0  0  0  0  1  1  1  1     1  1  0  0  0  0  0  0  0  0  0  0\n",
       " 0  0  0  0  0  0  0  0  0  1  1  1  1     1  1  0  0  0  0  0  0  0  0  0  0\n",
       " 0  0  0  0  0  0  0  0  0  0  0  0  0  …  0  0  0  0  0  0  0  0  0  0  0  0\n",
       " 0  0  0  0  0  0  0  0  0  0  0  0  0     0  0  0  0  0  0  0  0  0  0  0  0"
      ]
     },
     "metadata": {},
     "output_type": "display_data"
    }
   ],
   "source": [
    "# Create a rectangular mask\n",
    "xsn = 2036.7435\n",
    "ysn = 2046.6222\n",
    "\n",
    "xsize = 12  # pixels along x; cross-dispersion dir\n",
    "ysize = 220  # pixels along y; dispersion dir\n",
    "\n",
    "rectmask = falses(xsize, ysize)\n",
    "\n",
    "# set the central area with SN spectrum to be masked\n",
    "rectmask[3:10, 10:210] .= true\n"
   ]
  },
  {
   "cell_type": "code",
   "execution_count": 12,
   "id": "8ae537eb",
   "metadata": {},
   "outputs": [
    {
     "name": "stdout",
     "output_type": "stream",
     "text": [
      "Saved new mask.\n"
     ]
    }
   ],
   "source": [
    "# Save the rectangular mask to check\n",
    "# first check for old mask file. delete if it exists\n",
    "maskfile = \"rectmask.fits\"\n",
    "if isfile(maskfile)\n",
    "    rm(maskfile)\n",
    "    println(\"Deleted old mask file.\")\n",
    "end\n",
    "\n",
    "maskfits = FITS(maskfile, \"w\")\n",
    "write(maskfits, Int.(rectmask))\n",
    "close(maskfits)\n",
    "println(\"Saved new mask.\")"
   ]
  },
  {
   "cell_type": "code",
   "execution_count": null,
   "id": "43c092a1",
   "metadata": {},
   "outputs": [],
   "source": [
    "\n",
    "Np = 25  # has to be odd?\n",
    "halfNp = (Np-1)÷2\n",
    "dv = halfNp\n",
    "shiftx = 0\n",
    "\n",
    "bimage = zeros(Bool,size(out_image));\n",
    "\n",
    "# This line will create a mask matrix of size Np x Np\n",
    "# where values outside radius rp are set to zero.\n",
    "# i.e., the pixels inside the radius are masked.\n",
    "circmask = .!kstar_circle_mask(Np,rlim=4^2);\n",
    "\n",
    "cenx = 2036\n",
    "ceny = 2036\n",
    "\n",
    "bimage[(cenx+shiftx-dv):(cenx+shiftx+dv),(ceny-dv):(ceny+dv)] .= circmask;\n",
    "out_image[bimage] .= 0\n",
    "\n",
    "count(bimage)\n"
   ]
  },
  {
   "cell_type": "code",
   "execution_count": 15,
   "id": "a96c094a-1ee5-4665-ab5f-da523cb76b2e",
   "metadata": {
    "execution": {
     "iopub.execute_input": "2023-05-31T00:48:47.542000-04:00",
     "iopub.status.busy": "2023-05-31T00:48:47.542000-04:00",
     "iopub.status.idle": "2023-05-31T00:48:47.891000-04:00",
     "shell.execute_reply": "2023-05-31T00:48:47.891000-04:00"
    },
    "tags": []
   },
   "outputs": [
    {
     "name": "stdout",
     "output_type": "stream",
     "text": [
      "Masking SN spectrum with location (approx int pix):\n",
      "x: 2037   y: 2047\n",
      "dx: 6    dy: 110\n"
     ]
    },
    {
     "data": {
      "text/plain": [
       "1608"
      ]
     },
     "metadata": {},
     "output_type": "display_data"
    }
   ],
   "source": [
    "cenx = round(Int64, xsn)\n",
    "ceny = round(Int64, ysn)\n",
    "\n",
    "println(\"Masking SN spectrum with location (approx int pix):\")\n",
    "println(\"x: \", cenx, \"   y: \", ceny)\n",
    "\n",
    "dx = div(xsize, 2)\n",
    "dy = div(ysize, 2)\n",
    "\n",
    "println(\"dx: \", dx, \"    dy: \", dy)\n",
    "\n",
    "Np = 25\n",
    "\n",
    "bimage = zeros(Bool, size(out_image));\n",
    "bimage[(cenx-dx):(cenx+dx-1), (ceny-dy):(ceny+dy-1)] .= rectmask;\n",
    "out_image[bimage] .= 0\n",
    "count(bimage)"
   ]
  },
  {
   "cell_type": "code",
   "execution_count": 16,
   "id": "9439128f-1276-46d2-97f5-abdf62fc4387",
   "metadata": {
    "execution": {
     "iopub.execute_input": "2023-05-31T00:49:08.662000-04:00",
     "iopub.status.busy": "2023-05-31T00:49:08.662000-04:00",
     "iopub.status.idle": "2023-05-31T00:49:37.939000-04:00",
     "shell.execute_reply": "2023-05-31T00:49:37.938000-04:00"
    },
    "tags": []
   },
   "outputs": [
    {
     "name": "stdout",
     "output_type": "stream",
     "text": [
      "BAJ EDIT: Using edited version with initial infilling width widx=5\n",
      "BAJ EDIT: No need for Pkg.add or Pkg.instantiate now. The main CloudCovFix pkg and all deps have been added.\n",
      "BAJ EDIT: Now simply edit the code as needed.\n",
      "BAJ EDIT: Every time you edit you will need to restart kernel and run the initial lines.\n",
      "BAJ EDIT: Remove these lines once done.\n",
      "Infilling completed after 4 rounds with final width (widx,widy) = (19,19)\n",
      "Finished 0 stars in tile (1, 1)\n",
      "Finished 0 stars in tile (1, 2)\n",
      "Finished 0 stars in tile (1, 3)\n",
      "Finished 0 stars in tile (1, 4)\n",
      "Finished 0 stars in tile (2, 1)\n",
      "Finished 0 stars in tile (2, 2)\n",
      "Had to use SVD for icov_kgood_kgood at (x,y) = (2037,2047)\n",
      "Had to use SVD for sqrt_cov at (x,y) = (2037,2047)\n",
      "Finished 1 stars in tile (2, 3)\n",
      "Finished 0 stars in tile (2, 4)\n",
      "Finished 0 stars in tile (3, 1)\n",
      "Finished 0 stars in tile (3, 2)\n",
      "Finished 0 stars in tile (3, 3)\n",
      "Finished 0 stars in tile (3, 4)\n",
      "Finished 0 stars in tile (4, 1)\n",
      "Finished 0 stars in tile (4, 2)\n",
      "Finished 0 stars in tile (4, 3)\n",
      "Finished 0 stars in tile (4, 4)\n"
     ]
    }
   ],
   "source": [
    "ndraw0 = 100\n",
    "widx = 5\n",
    "\n",
    "x_locs = [cenx]\n",
    "y_locs = [ceny]\n",
    "star_stats = proc_discrete(x_locs,y_locs,out_image,bimage,Np=Np,tilex=4,ftype=64,widx=widx,seed=2022,ndraw=ndraw0);"
   ]
  },
  {
   "cell_type": "code",
   "execution_count": 17,
   "id": "dcf3ea75",
   "metadata": {},
   "outputs": [],
   "source": [
    "# Save the new infilled array to FITS\n",
    "newfits = FITS(\"Roman_TDS_truth_SNPrism_0_5_1000_galsn_infilled.fits\", \"w\");\n",
    "write(newfits, star_stats[1])\n",
    "close(newfits)"
   ]
  },
  {
   "cell_type": "code",
   "execution_count": null,
   "id": "e5bc2db5",
   "metadata": {},
   "outputs": [],
   "source": [
    "# Create a difference image and save that\n",
    "diffarr = out_image - star_stats[1]\n",
    "# Now save\n",
    "difffits = FITS(\"Roman_TDS_truth_SNPrism_0_5_1000_galsn_diff.fits\", \"w\");\n",
    "write(difffits, diffarr)\n",
    "close(difffits)"
   ]
  },
  {
   "cell_type": "code",
   "execution_count": null,
   "id": "5f3af0b7",
   "metadata": {},
   "outputs": [],
   "source": []
  },
  {
   "cell_type": "code",
   "execution_count": null,
   "id": "7c5f00ba",
   "metadata": {},
   "outputs": [],
   "source": [
    "dv = 100\n",
    "dummy = 10  # added to make everything positive. not sure how to sub -ve with nan yet\n",
    "dataarr = star_stats[1][(cenx-dv):(cenx+dv),(ceny-dv):(ceny+dv)]'.+dummy"
   ]
  },
  {
   "cell_type": "code",
   "execution_count": null,
   "id": "a3ccf9ba-bfd0-4483-8a9a-f8389d8a7673",
   "metadata": {
    "execution": {
     "iopub.execute_input": "2023-05-31T00:49:39.297000-04:00",
     "iopub.status.busy": "2023-05-31T00:49:39.296000-04:00",
     "iopub.status.idle": "2023-05-31T00:49:42.864000-04:00",
     "shell.execute_reply": "2023-05-31T00:49:42.864000-04:00"
    }
   },
   "outputs": [],
   "source": [
    "\n",
    "fig = Figure(size=(600, 600), fontsize=18)\n",
    "ax = Axis(fig[1,1], aspect=1, title=\"Mean Infill\", xticksvisible=false, yticksvisible=false, \n",
    "          xticklabelsvisible=false, yticklabelsvisible=false)\n",
    "data = log10.(dataarr)\n",
    "h = heatmap!(ax, data, colormap=:thermal, colorrange=(1, 3))\n",
    "\n",
    "resize_to_layout!(fig)\n",
    "fig"
   ]
  },
  {
   "cell_type": "code",
   "execution_count": null,
   "id": "8d67e45b-31c6-400f-afcb-2bbf4977460e",
   "metadata": {
    "execution": {
     "iopub.execute_input": "2023-05-31T00:49:42.865000-04:00",
     "iopub.status.busy": "2023-05-31T00:49:42.865000-04:00",
     "iopub.status.idle": "2023-05-31T00:49:43.051000-04:00",
     "shell.execute_reply": "2023-05-31T00:49:43.051000-04:00"
    }
   },
   "outputs": [],
   "source": [
    "dv = 50\n",
    "fig = Figure(size=(600, 600), fontsize=18)\n",
    "ax = Axis(fig[1,1], aspect=1, title=\"Draw Infill\", xticksvisible=false, yticksvisible=false, \n",
    "          xticklabelsvisible=false, yticklabelsvisible=false)\n",
    "h = heatmap!(ax,star_stats[2][(cenx-dv):(cenx+dv),(ceny-dv):(ceny+dv),1]'.-100,\n",
    "    colormap=:diverging_bkr_55_10_c35_n256,\n",
    "    colorrange=(-50, 50)\n",
    ")\n",
    "\n",
    "resize_to_layout!(fig)\n",
    "fig"
   ]
  },
  {
   "cell_type": "markdown",
   "id": "0751bac4",
   "metadata": {},
   "source": [
    "# WISE Infilling Example"
   ]
  },
  {
   "cell_type": "markdown",
   "id": "fa7a153a",
   "metadata": {},
   "source": [
    "Example of using proc_continuous to infill an arbitrary masked region of an image. This examples uses a subimage from the WISE 12 um dust map (tile 115)."
   ]
  },
  {
   "cell_type": "code",
   "execution_count": null,
   "id": "6f8e66c1-55b0-4c43-9aee-5c3692e5b1a1",
   "metadata": {},
   "outputs": [],
   "source": [
    "f = FITS(path2CloudCovFix*\"examples/data/WISE_115sub.fits\")\n",
    "raw_image = read(f[1])\n",
    "close(f)\n",
    "out_image = copy(raw_image);"
   ]
  },
  {
   "cell_type": "code",
   "execution_count": null,
   "id": "6732dc15",
   "metadata": {},
   "outputs": [],
   "source": [
    "Np = 33\n",
    "halfNp = (Np-1)÷2\n",
    "dv = halfNp\n",
    "shiftx = 5\n",
    "bimage = zeros(Bool,size(out_image));\n",
    "circmask = .!kstar_circle_mask(33,rlim=6^2);\n",
    "cenx = 579\n",
    "ceny = 579\n",
    "bimage[(cenx+shiftx-dv):(cenx+shiftx+dv),(ceny-dv):(ceny+dv)].=circmask;\n",
    "cenx = 550\n",
    "ceny = 550\n",
    "bimage[(cenx+shiftx-dv):(cenx+shiftx+dv),(ceny-dv):(ceny+dv)].=circmask;\n",
    "out_image[bimage].=0\n",
    "count(bimage)"
   ]
  },
  {
   "cell_type": "code",
   "execution_count": null,
   "id": "18e88b6c",
   "metadata": {},
   "outputs": [],
   "source": [
    "star_stats = proc_continuous(out_image,bimage,Np=Np,tilex=4,ftype=64,widx=widx,seed=2022,ndraw=ndraw0);"
   ]
  },
  {
   "cell_type": "code",
   "execution_count": null,
   "id": "0773b582",
   "metadata": {},
   "outputs": [],
   "source": [
    "cenx = 579\n",
    "ceny = 579\n",
    "dv = 50\n",
    "vmin, vmax = percentile(raw_image[(cenx-dv):(cenx+dv),(ceny-dv):(ceny+dv)],[2,99])\n",
    "fig = Figure(size=(600, 600), fontsize=18)\n",
    "ax = Axis(fig[1,1], aspect=1, title=\"Mean Infill\", xticksvisible=false, yticksvisible=false, \n",
    "          xticklabelsvisible=false, yticklabelsvisible=false)\n",
    "h = heatmap!(ax,star_stats[1][(cenx-dv):(cenx+dv),(ceny-dv):(ceny+dv)]',\n",
    "    colormap=:rainbow_bgyr_35_85_c73_n256,\n",
    "    colorrange=(vmin,vmax)\n",
    ")\n",
    "\n",
    "resize_to_layout!(fig)\n",
    "fig"
   ]
  },
  {
   "cell_type": "code",
   "execution_count": null,
   "id": "b9e84f6a",
   "metadata": {},
   "outputs": [],
   "source": [
    "dv = 50\n",
    "fig = Figure(size=(600, 600), fontsize=18)\n",
    "ax = Axis(fig[1,1], aspect=1, title=\"Draw Infill\", xticksvisible=false, yticksvisible=false, \n",
    "          xticklabelsvisible=false, yticklabelsvisible=false)\n",
    "h = heatmap!(ax,star_stats[2][(cenx-dv):(cenx+dv),(ceny-dv):(ceny+dv),1]',\n",
    "    colormap=:rainbow_bgyr_35_85_c73_n256,\n",
    "    colorrange=(vmin,vmax)\n",
    ")\n",
    "\n",
    "resize_to_layout!(fig)\n",
    "fig"
   ]
  },
  {
   "cell_type": "code",
   "execution_count": null,
   "id": "e972b84c",
   "metadata": {},
   "outputs": [],
   "source": [
    "dv = 50\n",
    "fig = Figure(size=(600, 600), fontsize=18)\n",
    "ax = Axis(fig[1,1], aspect=1, title=\"Original Image\", xticksvisible=false, yticksvisible=false, \n",
    "          xticklabelsvisible=false, yticklabelsvisible=false)\n",
    "h = heatmap!(ax,raw_image[(cenx-dv):(cenx+dv),(ceny-dv):(ceny+dv)]',\n",
    "    colormap=:rainbow_bgyr_35_85_c73_n256,\n",
    "    colorrange=(vmin,vmax)\n",
    ")\n",
    "\n",
    "resize_to_layout!(fig)\n",
    "fig"
   ]
  },
  {
   "cell_type": "code",
   "execution_count": null,
   "id": "435c168a",
   "metadata": {},
   "outputs": [],
   "source": []
  }
 ],
 "metadata": {
  "kernelspec": {
   "display_name": "Julia 1.11.5",
   "language": "julia",
   "name": "julia-1.11"
  },
  "language_info": {
   "file_extension": ".jl",
   "mimetype": "application/julia",
   "name": "julia",
   "version": "1.11.5"
  }
 },
 "nbformat": 4,
 "nbformat_minor": 5
}
